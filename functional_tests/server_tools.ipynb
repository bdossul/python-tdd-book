{
 "cells": [
  {
   "cell_type": "code",
   "execution_count": 8,
   "metadata": {},
   "outputs": [],
   "source": [
    "from fabric.api import run, env\n",
    "from fabric.context_managers import settings, shell_env\n",
    "\n",
    "def _get_manage_dot_py(host):\n",
    "    return f'~/sites/{host}/virtualenv/bin/python ~/sites/{host}/manage.py'\n",
    "\n",
    "\n",
    "def reset_database(host):\n",
    "    manage_dot_py = _get_manage_dot_py(host)\n",
    "    with settings(host_string=f'makopeth@{host}'):  \n",
    "        run(f'{manage_dot_py} flush --noinput')  \n",
    "\n",
    "def _get_server_env_vars(host):\n",
    "    env_lines = run(f'cat ~/sites/{host}/.env').splitlines()  \n",
    "    return dict(l.split('=') for l in env_lines if l)\n",
    "\n",
    "def create_session_on_server(host, email):\n",
    "    manage_dot_py = _get_manage_dot_py(host)\n",
    "    with settings(host_string=f'makopeth@{host}'):\n",
    "        env_vars = _get_server_env_vars(host)\n",
    "        with shell_env(**env_vars):  \n",
    "            session_key = run(f'{manage_dot_py} create_session {email}')  \n",
    "            return session_key.strip()"
   ]
  }
 ],
 "metadata": {
  "language_info": {
   "codemirror_mode": {
    "name": "ipython",
    "version": 3
   },
   "file_extension": ".py",
   "mimetype": "text/x-python",
   "name": "python",
   "nbconvert_exporter": "python",
   "pygments_lexer": "ipython3",
   "version": "3.8.1-final"
  },
  "orig_nbformat": 2,
  "kernelspec": {
   "name": "python38164bitvirtualenvvenv48571d4f2a3340499d137649640e67cb",
   "display_name": "Python 3.8.1 64-bit ('virtualenv': venv)"
  }
 },
 "nbformat": 4,
 "nbformat_minor": 2
}